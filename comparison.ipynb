{
 "cells": [
  {
   "cell_type": "code",
   "execution_count": 1,
   "metadata": {},
   "outputs": [],
   "source": [
    "# Libraries\n",
    "import numpy as np\n",
    "import pandas as pd\n",
    "import torch\n",
    "from modules.energy_consumption_net import EnergyConsumptionNet, train_epochs\n",
    "from modules.energy_consumption_dataset import EnergyConsumptionDataset\n",
    "from statsmodels.tsa.seasonal import seasonal_decompose\n",
    "from statsmodels.graphics.tsaplots import plot_acf, plot_pacf\n",
    "import matplotlib.pyplot as plt\n",
    "import matplotlib.colors as mc\n",
    "\n",
    "# Register converters to plot datetime axis\n",
    "pd.plotting.register_matplotlib_converters()\n",
    "\n",
    "# Setup matplotlib plotting\n",
    "%matplotlib inline"
   ]
  },
  {
   "cell_type": "code",
   "execution_count": 2,
   "metadata": {},
   "outputs": [
    {
     "data": {
      "text/html": [
       "<div>\n",
       "<style scoped>\n",
       "    .dataframe tbody tr th:only-of-type {\n",
       "        vertical-align: middle;\n",
       "    }\n",
       "\n",
       "    .dataframe tbody tr th {\n",
       "        vertical-align: top;\n",
       "    }\n",
       "\n",
       "    .dataframe thead th {\n",
       "        text-align: right;\n",
       "    }\n",
       "</style>\n",
       "<table border=\"1\" class=\"dataframe\">\n",
       "  <thead>\n",
       "    <tr style=\"text-align: right;\">\n",
       "      <th></th>\n",
       "      <th>AEP</th>\n",
       "      <th>DAYTON</th>\n",
       "      <th>DOM</th>\n",
       "      <th>DUQ</th>\n",
       "    </tr>\n",
       "    <tr>\n",
       "      <th>datetime</th>\n",
       "      <th></th>\n",
       "      <th></th>\n",
       "      <th></th>\n",
       "      <th></th>\n",
       "    </tr>\n",
       "  </thead>\n",
       "  <tbody>\n",
       "    <tr>\n",
       "      <td>2006-01-01 00:00:00</td>\n",
       "      <td>14565.0</td>\n",
       "      <td>1769.0</td>\n",
       "      <td>9649.0</td>\n",
       "      <td>1493.0</td>\n",
       "    </tr>\n",
       "    <tr>\n",
       "      <td>2006-01-01 01:00:00</td>\n",
       "      <td>14287.0</td>\n",
       "      <td>1697.0</td>\n",
       "      <td>9258.0</td>\n",
       "      <td>1255.0</td>\n",
       "    </tr>\n",
       "    <tr>\n",
       "      <td>2006-01-01 02:00:00</td>\n",
       "      <td>13932.0</td>\n",
       "      <td>1635.0</td>\n",
       "      <td>8987.0</td>\n",
       "      <td>1338.0</td>\n",
       "    </tr>\n",
       "    <tr>\n",
       "      <td>2006-01-01 03:00:00</td>\n",
       "      <td>13713.0</td>\n",
       "      <td>1584.0</td>\n",
       "      <td>8781.0</td>\n",
       "      <td>1276.0</td>\n",
       "    </tr>\n",
       "    <tr>\n",
       "      <td>2006-01-01 04:00:00</td>\n",
       "      <td>13656.0</td>\n",
       "      <td>1553.0</td>\n",
       "      <td>8680.0</td>\n",
       "      <td>1251.0</td>\n",
       "    </tr>\n",
       "  </tbody>\n",
       "</table>\n",
       "</div>"
      ],
      "text/plain": [
       "                         AEP  DAYTON     DOM     DUQ\n",
       "datetime                                            \n",
       "2006-01-01 00:00:00  14565.0  1769.0  9649.0  1493.0\n",
       "2006-01-01 01:00:00  14287.0  1697.0  9258.0  1255.0\n",
       "2006-01-01 02:00:00  13932.0  1635.0  8987.0  1338.0\n",
       "2006-01-01 03:00:00  13713.0  1584.0  8781.0  1276.0\n",
       "2006-01-01 04:00:00  13656.0  1553.0  8680.0  1251.0"
      ]
     },
     "execution_count": 2,
     "metadata": {},
     "output_type": "execute_result"
    }
   ],
   "source": [
    "# Read dataset\n",
    "ds = pd.read_csv('data/ready.csv', parse_dates=['datetime'], index_col='datetime')\n",
    "# We want to have 2018 in last positions of the array (due to Neural Network layout)\n",
    "# So, dataset is sorted accordingly\n",
    "ds.sort_index(ascending=True, inplace=True)\n",
    "# Show dataset\n",
    "ds.head()"
   ]
  },
  {
   "cell_type": "code",
   "execution_count": 3,
   "metadata": {},
   "outputs": [
    {
     "name": "stdout",
     "output_type": "stream",
     "text": [
      "Train dataset has 96433 rows (87%)\n",
      "Test dataset has 13897 rows (13%)\n"
     ]
    }
   ],
   "source": [
    "# Split original dataset into training and testing\n",
    "ds_train = ds.loc[:'2017-01-01 00:00:00']\n",
    "ds_test = ds.loc['2017-01-01 00:00:00':]\n",
    "\n",
    "# Check train and test datasets\n",
    "print('Train dataset has {:d} rows ({:.0f}%)'.format(ds_train.shape[0], ds_train.shape[0] / ds.shape[0] * 100))\n",
    "print('Test dataset has {:d} rows ({:.0f}%)'.format(ds_test.shape[0], ds_test.shape[0] / ds.shape[0] * 100))"
   ]
  },
  {
   "cell_type": "code",
   "execution_count": 4,
   "metadata": {},
   "outputs": [],
   "source": [
    "# Define PyTorch Datasets for testing univariate LSTM\n",
    "lag = 3  # Lag\n",
    "train = EnergyConsumptionDataset(ds_train[['AEP']], lag=lag)\n",
    "test = EnergyConsumptionDataset(ds_test[['AEP']], col_max=train.max, col_min=train.min, lag=lag)"
   ]
  },
  {
   "cell_type": "code",
   "execution_count": 5,
   "metadata": {},
   "outputs": [
    {
     "data": {
      "text/plain": [
       "<All keys matched successfully>"
      ]
     },
     "execution_count": 5,
     "metadata": {},
     "output_type": "execute_result"
    }
   ],
   "source": [
    "# Define network (10 lags)\n",
    "univariate = EnergyConsumptionNet(input_size=1, hidden_size=128, num_layers=2, dropout=0.3)\n",
    "# Move net to GPU\n",
    "univariate.to(torch.device('cpu'))\n",
    "\n",
    "# Load weigths from disk\n",
    "univariate.load_state_dict(torch.load('models/univariate.pt'))"
   ]
  },
  {
   "cell_type": "code",
   "execution_count": 6,
   "metadata": {},
   "outputs": [
    {
     "data": {
      "text/html": [
       "<div>\n",
       "<style scoped>\n",
       "    .dataframe tbody tr th:only-of-type {\n",
       "        vertical-align: middle;\n",
       "    }\n",
       "\n",
       "    .dataframe tbody tr th {\n",
       "        vertical-align: top;\n",
       "    }\n",
       "\n",
       "    .dataframe thead th {\n",
       "        text-align: right;\n",
       "    }\n",
       "</style>\n",
       "<table border=\"1\" class=\"dataframe\">\n",
       "  <thead>\n",
       "    <tr style=\"text-align: right;\">\n",
       "      <th></th>\n",
       "      <th>true</th>\n",
       "      <th>test</th>\n",
       "    </tr>\n",
       "    <tr>\n",
       "      <th>datetime</th>\n",
       "      <th></th>\n",
       "      <th></th>\n",
       "    </tr>\n",
       "  </thead>\n",
       "  <tbody>\n",
       "    <tr>\n",
       "      <td>2017-01-01 03:00:00</td>\n",
       "      <td>12487.0</td>\n",
       "      <td>12481.108398</td>\n",
       "    </tr>\n",
       "    <tr>\n",
       "      <td>2017-01-01 04:00:00</td>\n",
       "      <td>12369.0</td>\n",
       "      <td>12505.322266</td>\n",
       "    </tr>\n",
       "    <tr>\n",
       "      <td>2017-01-01 05:00:00</td>\n",
       "      <td>12490.0</td>\n",
       "      <td>12404.982422</td>\n",
       "    </tr>\n",
       "    <tr>\n",
       "      <td>2017-01-01 06:00:00</td>\n",
       "      <td>12646.0</td>\n",
       "      <td>12660.414062</td>\n",
       "    </tr>\n",
       "    <tr>\n",
       "      <td>2017-01-01 07:00:00</td>\n",
       "      <td>12936.0</td>\n",
       "      <td>12848.729492</td>\n",
       "    </tr>\n",
       "    <tr>\n",
       "      <td>...</td>\n",
       "      <td>...</td>\n",
       "      <td>...</td>\n",
       "    </tr>\n",
       "    <tr>\n",
       "      <td>2018-08-02 20:00:00</td>\n",
       "      <td>17673.0</td>\n",
       "      <td>17551.181641</td>\n",
       "    </tr>\n",
       "    <tr>\n",
       "      <td>2018-08-02 21:00:00</td>\n",
       "      <td>17303.0</td>\n",
       "      <td>17130.859375</td>\n",
       "    </tr>\n",
       "    <tr>\n",
       "      <td>2018-08-02 22:00:00</td>\n",
       "      <td>17001.0</td>\n",
       "      <td>16837.669922</td>\n",
       "    </tr>\n",
       "    <tr>\n",
       "      <td>2018-08-02 23:00:00</td>\n",
       "      <td>15964.0</td>\n",
       "      <td>16600.562500</td>\n",
       "    </tr>\n",
       "    <tr>\n",
       "      <td>2018-08-03 00:00:00</td>\n",
       "      <td>14809.0</td>\n",
       "      <td>15031.015625</td>\n",
       "    </tr>\n",
       "  </tbody>\n",
       "</table>\n",
       "<p>13894 rows × 2 columns</p>\n",
       "</div>"
      ],
      "text/plain": [
       "                        true          test\n",
       "datetime                                  \n",
       "2017-01-01 03:00:00  12487.0  12481.108398\n",
       "2017-01-01 04:00:00  12369.0  12505.322266\n",
       "2017-01-01 05:00:00  12490.0  12404.982422\n",
       "2017-01-01 06:00:00  12646.0  12660.414062\n",
       "2017-01-01 07:00:00  12936.0  12848.729492\n",
       "...                      ...           ...\n",
       "2018-08-02 20:00:00  17673.0  17551.181641\n",
       "2018-08-02 21:00:00  17303.0  17130.859375\n",
       "2018-08-02 22:00:00  17001.0  16837.669922\n",
       "2018-08-02 23:00:00  15964.0  16600.562500\n",
       "2018-08-03 00:00:00  14809.0  15031.015625\n",
       "\n",
       "[13894 rows x 2 columns]"
      ]
     },
     "execution_count": 6,
     "metadata": {},
     "output_type": "execute_result"
    }
   ],
   "source": [
    "# Forecast using univariate LSTM test data only\n",
    "\n",
    "# Predict on whole training dataset\n",
    "with torch.no_grad():\n",
    "    # Set the net in evaluation mode\n",
    "    univariate.eval()\n",
    "    # Define datetime indices for every predicted value\n",
    "    test_index = test.dataset.index[test.lag:]\n",
    "    # Make predictions on test set\n",
    "    univariate_in = torch.cat([test[i].unsqueeze(0) for i in range(len(test))])\n",
    "    test_pred, _ = univariate(univariate_in[:, :-1, :])\n",
    "    \n",
    "# Cast retrieved forecast as lists\n",
    "test_pred = test_pred[:, -1, 0].squeeze().numpy()\n",
    "# Rescale output\n",
    "test_pred = test_pred * (train.max[0] - train.min[0]) + train.min[0]\n",
    "\n",
    "# Define datetime -> (true, train, test) dataset for forecasting\n",
    "uni_forecast = ds[['AEP']].copy().rename(columns={ds.columns[0]: 'true'})\n",
    "# Add empty columns for test\n",
    "uni_forecast['test'] = np.nan\n",
    "# Fill test data\n",
    "uni_forecast.loc[test_index, 'test'] = np.array(test_pred, dtype=np.float)\n",
    "# Keep only valid data\n",
    "uni_forecast = uni_forecast[(~uni_forecast.true.isnull()) & (~uni_forecast.test.isnull())]\n",
    "# Check forecast dataset\n",
    "uni_forecast"
   ]
  },
  {
   "cell_type": "code",
   "execution_count": 7,
   "metadata": {},
   "outputs": [],
   "source": [
    "# Define PyTorch Datasets for testing multivariate LSTM\n",
    "lag = 3  # Lag\n",
    "train = EnergyConsumptionDataset(ds_train, lag=lag)\n",
    "test = EnergyConsumptionDataset(ds_test, col_max=train.max, col_min=train.min, lag=lag)"
   ]
  },
  {
   "cell_type": "code",
   "execution_count": 8,
   "metadata": {},
   "outputs": [
    {
     "data": {
      "text/plain": [
       "<All keys matched successfully>"
      ]
     },
     "execution_count": 8,
     "metadata": {},
     "output_type": "execute_result"
    }
   ],
   "source": [
    "# Multivariate LSTM\n",
    "\n",
    "# Define network (10 lags)\n",
    "multivariate = EnergyConsumptionNet(input_size=4, hidden_size=128, num_layers=2, dropout=0.3)\n",
    "# Move net to GPU\n",
    "multivariate.to(torch.device('cpu'))\n",
    "\n",
    "# Load weigths from disk\n",
    "multivariate.load_state_dict(torch.load('models/multivariate.pt'))"
   ]
  },
  {
   "cell_type": "code",
   "execution_count": 9,
   "metadata": {},
   "outputs": [
    {
     "data": {
      "text/html": [
       "<div>\n",
       "<style scoped>\n",
       "    .dataframe tbody tr th:only-of-type {\n",
       "        vertical-align: middle;\n",
       "    }\n",
       "\n",
       "    .dataframe tbody tr th {\n",
       "        vertical-align: top;\n",
       "    }\n",
       "\n",
       "    .dataframe thead th {\n",
       "        text-align: right;\n",
       "    }\n",
       "</style>\n",
       "<table border=\"1\" class=\"dataframe\">\n",
       "  <thead>\n",
       "    <tr style=\"text-align: right;\">\n",
       "      <th></th>\n",
       "      <th>true</th>\n",
       "      <th>test</th>\n",
       "    </tr>\n",
       "    <tr>\n",
       "      <th>datetime</th>\n",
       "      <th></th>\n",
       "      <th></th>\n",
       "    </tr>\n",
       "  </thead>\n",
       "  <tbody>\n",
       "    <tr>\n",
       "      <td>2017-01-01 03:00:00</td>\n",
       "      <td>12487.0</td>\n",
       "      <td>12424.589844</td>\n",
       "    </tr>\n",
       "    <tr>\n",
       "      <td>2017-01-01 04:00:00</td>\n",
       "      <td>12369.0</td>\n",
       "      <td>12445.226562</td>\n",
       "    </tr>\n",
       "    <tr>\n",
       "      <td>2017-01-01 05:00:00</td>\n",
       "      <td>12490.0</td>\n",
       "      <td>12302.208984</td>\n",
       "    </tr>\n",
       "    <tr>\n",
       "      <td>2017-01-01 06:00:00</td>\n",
       "      <td>12646.0</td>\n",
       "      <td>12542.237305</td>\n",
       "    </tr>\n",
       "    <tr>\n",
       "      <td>2017-01-01 07:00:00</td>\n",
       "      <td>12936.0</td>\n",
       "      <td>12719.951172</td>\n",
       "    </tr>\n",
       "    <tr>\n",
       "      <td>...</td>\n",
       "      <td>...</td>\n",
       "      <td>...</td>\n",
       "    </tr>\n",
       "    <tr>\n",
       "      <td>2018-08-02 20:00:00</td>\n",
       "      <td>17673.0</td>\n",
       "      <td>17865.109375</td>\n",
       "    </tr>\n",
       "    <tr>\n",
       "      <td>2018-08-02 21:00:00</td>\n",
       "      <td>17303.0</td>\n",
       "      <td>17325.746094</td>\n",
       "    </tr>\n",
       "    <tr>\n",
       "      <td>2018-08-02 22:00:00</td>\n",
       "      <td>17001.0</td>\n",
       "      <td>16851.492188</td>\n",
       "    </tr>\n",
       "    <tr>\n",
       "      <td>2018-08-02 23:00:00</td>\n",
       "      <td>15964.0</td>\n",
       "      <td>16500.388672</td>\n",
       "    </tr>\n",
       "    <tr>\n",
       "      <td>2018-08-03 00:00:00</td>\n",
       "      <td>14809.0</td>\n",
       "      <td>14713.859375</td>\n",
       "    </tr>\n",
       "  </tbody>\n",
       "</table>\n",
       "<p>13894 rows × 2 columns</p>\n",
       "</div>"
      ],
      "text/plain": [
       "                        true          test\n",
       "datetime                                  \n",
       "2017-01-01 03:00:00  12487.0  12424.589844\n",
       "2017-01-01 04:00:00  12369.0  12445.226562\n",
       "2017-01-01 05:00:00  12490.0  12302.208984\n",
       "2017-01-01 06:00:00  12646.0  12542.237305\n",
       "2017-01-01 07:00:00  12936.0  12719.951172\n",
       "...                      ...           ...\n",
       "2018-08-02 20:00:00  17673.0  17865.109375\n",
       "2018-08-02 21:00:00  17303.0  17325.746094\n",
       "2018-08-02 22:00:00  17001.0  16851.492188\n",
       "2018-08-02 23:00:00  15964.0  16500.388672\n",
       "2018-08-03 00:00:00  14809.0  14713.859375\n",
       "\n",
       "[13894 rows x 2 columns]"
      ]
     },
     "execution_count": 9,
     "metadata": {},
     "output_type": "execute_result"
    }
   ],
   "source": [
    "# Forecast using multivariate LSTM test data only\n",
    "\n",
    "# Predict on whole training dataset\n",
    "with torch.no_grad():\n",
    "    # Set the net in evaluation mode\n",
    "    univariate.eval()\n",
    "    # Define datetime indices for every predicted value\n",
    "    test_index = test.dataset.index[test.lag:]\n",
    "    # Make predictions on test set\n",
    "    multivariate_in = torch.cat([test[i].unsqueeze(0) for i in range(len(test))])\n",
    "    test_pred, _ = multivariate(multivariate_in[:, :-1, :])\n",
    "    \n",
    "# Cast retrieved forecast as lists\n",
    "test_pred = test_pred[:, -1, 0].squeeze().numpy()\n",
    "# Rescale output\n",
    "test_pred = test_pred * (train.max[0] - train.min[0]) + train.min[0]\n",
    "\n",
    "# Define datetime -> (true, train, test) dataset for forecasting\n",
    "multi_forecast = ds[['AEP']].copy().rename(columns={ds.columns[0]: 'true'})\n",
    "# Add empty columns for test\n",
    "multi_forecast['test'] = np.nan\n",
    "# Fill test data\n",
    "multi_forecast.loc[test_index, 'test'] = np.array(test_pred, dtype=np.float)\n",
    "# Keep only valid data\n",
    "multi_forecast = multi_forecast[(~multi_forecast.true.isnull()) & (~multi_forecast.test.isnull())]\n",
    "# Check forecast dataset\n",
    "multi_forecast"
   ]
  },
  {
   "cell_type": "code",
   "execution_count": 20,
   "metadata": {},
   "outputs": [
    {
     "data": {
      "image/png": "[encoded data removed]",
      "text/plain": [
       "<Figure size 1080x504 with 1 Axes>"
      ]
     },
     "metadata": {
      "needs_background": "light"
     },
     "output_type": "display_data"
    }
   ],
   "source": [
    "# Regression comparison on a few hours interval\n",
    "fig, ax = plt.subplots(figsize=(15, 7))\n",
    "_ = ax.set_title('True vs forecasted values (test data, hourly resolution)')\n",
    "_ = ax.plot(uni_forecast['2017-05-10 12:00:00':'2017-05-11 12:00:00'].true, '-')\n",
    "_ = ax.plot(uni_forecast['2017-05-10 12:00:00':'2017-05-11 12:00:00'].test, '-')\n",
    "_ = ax.plot(multi_forecast['2017-05-10 12:00:00':'2017-05-11 12:00:00'].test, '-')\n",
    "_ = ax.legend(['True', 'Test (univariate)', 'Test (multivariate)'], loc='upper right')\n",
    "_ = plt.savefig('images/comparison_test_hourly.png')\n",
    "_ = plt.show()"
   ]
  },
  {
   "cell_type": "code",
   "execution_count": 22,
   "metadata": {},
   "outputs": [
    {
     "data": {
      "image/png": "[encoded data removed]",
      "text/plain": [
       "<Figure size 1080x504 with 1 Axes>"
      ]
     },
     "metadata": {
      "needs_background": "light"
     },
     "output_type": "display_data"
    }
   ],
   "source": [
    "# Errors distribution comparison\n",
    "fig, ax = plt.subplots(figsize=(15, 7))\n",
    "_ = ax.set_title('Univariate vs multivariate test error distributions')\n",
    "_ = ax.hist(uni_forecast.test - uni_forecast.true, bins=100, alpha=.7)\n",
    "_ = ax.hist(multi_forecast.test - multi_forecast.true, bins=100, alpha=.7)\n",
    "_ = ax.legend(['Test error (univariate)', 'Test error (multivariate)'])\n",
    "_ = plt.savefig('images/comparison_error_distribution.png')\n",
    "_ = plt.show()"
   ]
  },
  {
   "cell_type": "code",
   "execution_count": null,
   "metadata": {},
   "outputs": [],
   "source": []
  }
 ],
 "metadata": {
  "kernelspec": {
   "display_name": "Python 3",
   "language": "python",
   "name": "python3"
  },
  "language_info": {
   "codemirror_mode": {
    "name": "ipython",
    "version": 3
   },
   "file_extension": ".py",
   "mimetype": "text/x-python",
   "name": "python",
   "nbconvert_exporter": "python",
   "pygments_lexer": "ipython3",
   "version": "3.7.4"
  }
 },
 "nbformat": 4,
 "nbformat_minor": 2
}
